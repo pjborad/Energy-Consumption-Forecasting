{
 "cells": [
  {
   "cell_type": "code",
   "execution_count": 66,
   "id": "3612c785",
   "metadata": {},
   "outputs": [],
   "source": [
    "import pandas as pd\n",
    "from matplotlib import pyplot as plt\n",
    "import seaborn as sns\n",
    "import xgboost as xgb"
   ]
  },
  {
   "cell_type": "markdown",
   "id": "de854f99",
   "metadata": {},
   "source": [
    "### Reading and Pre-processing"
   ]
  },
  {
   "cell_type": "code",
   "execution_count": 102,
   "id": "6b95e005",
   "metadata": {},
   "outputs": [],
   "source": [
    "df = pd.read_csv(\"./USA_Hourly_PC.csv\")\n",
    "df = df.set_index('Datetime')\n",
    "df.index = pd.to_datetime(df.index )"
   ]
  },
  {
   "cell_type": "code",
   "execution_count": 103,
   "id": "504b342c",
   "metadata": {},
   "outputs": [
    {
     "data": {
      "text/html": [
       "<div>\n",
       "<style scoped>\n",
       "    .dataframe tbody tr th:only-of-type {\n",
       "        vertical-align: middle;\n",
       "    }\n",
       "\n",
       "    .dataframe tbody tr th {\n",
       "        vertical-align: top;\n",
       "    }\n",
       "\n",
       "    .dataframe thead th {\n",
       "        text-align: right;\n",
       "    }\n",
       "</style>\n",
       "<table border=\"1\" class=\"dataframe\">\n",
       "  <thead>\n",
       "    <tr style=\"text-align: right;\">\n",
       "      <th></th>\n",
       "      <th>AEP_MW</th>\n",
       "    </tr>\n",
       "    <tr>\n",
       "      <th>Datetime</th>\n",
       "      <th></th>\n",
       "    </tr>\n",
       "  </thead>\n",
       "  <tbody>\n",
       "    <tr>\n",
       "      <th>2004-12-31 01:00:00</th>\n",
       "      <td>13478.0</td>\n",
       "    </tr>\n",
       "    <tr>\n",
       "      <th>2004-12-31 02:00:00</th>\n",
       "      <td>12865.0</td>\n",
       "    </tr>\n",
       "    <tr>\n",
       "      <th>2004-12-31 03:00:00</th>\n",
       "      <td>12577.0</td>\n",
       "    </tr>\n",
       "    <tr>\n",
       "      <th>2004-12-31 04:00:00</th>\n",
       "      <td>12517.0</td>\n",
       "    </tr>\n",
       "    <tr>\n",
       "      <th>2004-12-31 05:00:00</th>\n",
       "      <td>12670.0</td>\n",
       "    </tr>\n",
       "  </tbody>\n",
       "</table>\n",
       "</div>"
      ],
      "text/plain": [
       "                      AEP_MW\n",
       "Datetime                    \n",
       "2004-12-31 01:00:00  13478.0\n",
       "2004-12-31 02:00:00  12865.0\n",
       "2004-12-31 03:00:00  12577.0\n",
       "2004-12-31 04:00:00  12517.0\n",
       "2004-12-31 05:00:00  12670.0"
      ]
     },
     "execution_count": 103,
     "metadata": {},
     "output_type": "execute_result"
    }
   ],
   "source": [
    "df.head()"
   ]
  },
  {
   "cell_type": "code",
   "execution_count": 104,
   "id": "68a3c58b",
   "metadata": {},
   "outputs": [
    {
     "data": {
      "text/html": [
       "<div>\n",
       "<style scoped>\n",
       "    .dataframe tbody tr th:only-of-type {\n",
       "        vertical-align: middle;\n",
       "    }\n",
       "\n",
       "    .dataframe tbody tr th {\n",
       "        vertical-align: top;\n",
       "    }\n",
       "\n",
       "    .dataframe thead th {\n",
       "        text-align: right;\n",
       "    }\n",
       "</style>\n",
       "<table border=\"1\" class=\"dataframe\">\n",
       "  <thead>\n",
       "    <tr style=\"text-align: right;\">\n",
       "      <th></th>\n",
       "      <th>AEP_MW</th>\n",
       "    </tr>\n",
       "    <tr>\n",
       "      <th>Datetime</th>\n",
       "      <th></th>\n",
       "    </tr>\n",
       "  </thead>\n",
       "  <tbody>\n",
       "    <tr>\n",
       "      <th>2018-01-01 20:00:00</th>\n",
       "      <td>21089.0</td>\n",
       "    </tr>\n",
       "    <tr>\n",
       "      <th>2018-01-01 21:00:00</th>\n",
       "      <td>20999.0</td>\n",
       "    </tr>\n",
       "    <tr>\n",
       "      <th>2018-01-01 22:00:00</th>\n",
       "      <td>20820.0</td>\n",
       "    </tr>\n",
       "    <tr>\n",
       "      <th>2018-01-01 23:00:00</th>\n",
       "      <td>20415.0</td>\n",
       "    </tr>\n",
       "    <tr>\n",
       "      <th>2018-01-02 00:00:00</th>\n",
       "      <td>19993.0</td>\n",
       "    </tr>\n",
       "  </tbody>\n",
       "</table>\n",
       "</div>"
      ],
      "text/plain": [
       "                      AEP_MW\n",
       "Datetime                    \n",
       "2018-01-01 20:00:00  21089.0\n",
       "2018-01-01 21:00:00  20999.0\n",
       "2018-01-01 22:00:00  20820.0\n",
       "2018-01-01 23:00:00  20415.0\n",
       "2018-01-02 00:00:00  19993.0"
      ]
     },
     "execution_count": 104,
     "metadata": {},
     "output_type": "execute_result"
    }
   ],
   "source": [
    "df.tail()"
   ]
  },
  {
   "cell_type": "code",
   "execution_count": 105,
   "id": "6a46b75e",
   "metadata": {},
   "outputs": [
    {
     "data": {
      "text/plain": [
       "<AxesSubplot:title={'center':'Hourly Power Consumption in USA'}, xlabel='Datetime'>"
      ]
     },
     "execution_count": 105,
     "metadata": {},
     "output_type": "execute_result"
    },
    {
     "data": {
      "image/png": "[encoded data removed]",
      "text/plain": [
       "<Figure size 1080x360 with 1 Axes>"
      ]
     },
     "metadata": {
      "needs_background": "light"
     },
     "output_type": "display_data"
    }
   ],
   "source": [
    "df.plot(figsize=(15,5),title=\"Hourly Power Consumption in USA\")"
   ]
  },
  {
   "cell_type": "markdown",
   "id": "e7834d8d",
   "metadata": {},
   "source": [
    "### Train-Test split"
   ]
  },
  {
   "cell_type": "code",
   "execution_count": 106,
   "id": "3dc70c04",
   "metadata": {},
   "outputs": [
    {
     "data": {
      "text/plain": [
       "<AxesSubplot:xlabel='Datetime'>"
      ]
     },
     "execution_count": 106,
     "metadata": {},
     "output_type": "execute_result"
    },
    {
     "data": {
      "image/png": "[encoded data removed]",
      "text/plain": [
       "<Figure size 1080x360 with 1 Axes>"
      ]
     },
     "metadata": {
      "needs_background": "light"
     },
     "output_type": "display_data"
    }
   ],
   "source": [
    "x_train = df.loc[df.index<'01-01-2016']\n",
    "x_test = df.loc[df.index>='01-01-2016']\n",
    "fig,ax = plt.subplots(figsize=(15,5))\n",
    "x_train.plot(ax=ax,label='Training Set')\n",
    "x_test.plot(ax=ax,label='Testing Set',color='g')"
   ]
  },
  {
   "cell_type": "markdown",
   "id": "bde6e690",
   "metadata": {},
   "source": [
    "### Features selection"
   ]
  },
  {
   "cell_type": "code",
   "execution_count": 98,
   "id": "9ca4800e",
   "metadata": {},
   "outputs": [],
   "source": [
    "def features_generation(df):\n",
    "    df = df.copy()\n",
    "    df['hour'] = df.index.hour \n",
    "    df['dayofweek'] = df.index.dayofweek\n",
    "    df['month'] = df.index.month\n",
    "    df['year'] = df.index.year\n",
    "    df['dayofyear'] = df.index.dayofyear\n",
    "    return df"
   ]
  },
  {
   "cell_type": "code",
   "execution_count": 99,
   "id": "16cb5a31",
   "metadata": {},
   "outputs": [
    {
     "data": {
      "text/html": [
       "<div>\n",
       "<style scoped>\n",
       "    .dataframe tbody tr th:only-of-type {\n",
       "        vertical-align: middle;\n",
       "    }\n",
       "\n",
       "    .dataframe tbody tr th {\n",
       "        vertical-align: top;\n",
       "    }\n",
       "\n",
       "    .dataframe thead th {\n",
       "        text-align: right;\n",
       "    }\n",
       "</style>\n",
       "<table border=\"1\" class=\"dataframe\">\n",
       "  <thead>\n",
       "    <tr style=\"text-align: right;\">\n",
       "      <th></th>\n",
       "      <th>AEP_MW</th>\n",
       "      <th>hour</th>\n",
       "      <th>dayofweek</th>\n",
       "      <th>month</th>\n",
       "      <th>year</th>\n",
       "      <th>dayofyear</th>\n",
       "    </tr>\n",
       "    <tr>\n",
       "      <th>Datetime</th>\n",
       "      <th></th>\n",
       "      <th></th>\n",
       "      <th></th>\n",
       "      <th></th>\n",
       "      <th></th>\n",
       "      <th></th>\n",
       "    </tr>\n",
       "  </thead>\n",
       "  <tbody>\n",
       "    <tr>\n",
       "      <th>2004-12-31 01:00:00</th>\n",
       "      <td>13478.0</td>\n",
       "      <td>1</td>\n",
       "      <td>4</td>\n",
       "      <td>12</td>\n",
       "      <td>2004</td>\n",
       "      <td>366</td>\n",
       "    </tr>\n",
       "    <tr>\n",
       "      <th>2004-12-31 02:00:00</th>\n",
       "      <td>12865.0</td>\n",
       "      <td>2</td>\n",
       "      <td>4</td>\n",
       "      <td>12</td>\n",
       "      <td>2004</td>\n",
       "      <td>366</td>\n",
       "    </tr>\n",
       "    <tr>\n",
       "      <th>2004-12-31 03:00:00</th>\n",
       "      <td>12577.0</td>\n",
       "      <td>3</td>\n",
       "      <td>4</td>\n",
       "      <td>12</td>\n",
       "      <td>2004</td>\n",
       "      <td>366</td>\n",
       "    </tr>\n",
       "    <tr>\n",
       "      <th>2004-12-31 04:00:00</th>\n",
       "      <td>12517.0</td>\n",
       "      <td>4</td>\n",
       "      <td>4</td>\n",
       "      <td>12</td>\n",
       "      <td>2004</td>\n",
       "      <td>366</td>\n",
       "    </tr>\n",
       "    <tr>\n",
       "      <th>2004-12-31 05:00:00</th>\n",
       "      <td>12670.0</td>\n",
       "      <td>5</td>\n",
       "      <td>4</td>\n",
       "      <td>12</td>\n",
       "      <td>2004</td>\n",
       "      <td>366</td>\n",
       "    </tr>\n",
       "  </tbody>\n",
       "</table>\n",
       "</div>"
      ],
      "text/plain": [
       "                      AEP_MW  hour  dayofweek  month  year  dayofyear\n",
       "Datetime                                                             \n",
       "2004-12-31 01:00:00  13478.0     1          4     12  2004        366\n",
       "2004-12-31 02:00:00  12865.0     2          4     12  2004        366\n",
       "2004-12-31 03:00:00  12577.0     3          4     12  2004        366\n",
       "2004-12-31 04:00:00  12517.0     4          4     12  2004        366\n",
       "2004-12-31 05:00:00  12670.0     5          4     12  2004        366"
      ]
     },
     "execution_count": 99,
     "metadata": {},
     "output_type": "execute_result"
    }
   ],
   "source": [
    "df = features_generation(df)\n",
    "df.head()"
   ]
  },
  {
   "cell_type": "markdown",
   "id": "4573e53a",
   "metadata": {},
   "source": [
    "### Data Visualization"
   ]
  },
  {
   "cell_type": "code",
   "execution_count": 100,
   "id": "fb47717a",
   "metadata": {},
   "outputs": [
    {
     "data": {
      "image/png": "[encoded data removed]",
      "text/plain": [
       "<Figure size 1080x360 with 1 Axes>"
      ]
     },
     "metadata": {
      "needs_background": "light"
     },
     "output_type": "display_data"
    }
   ],
   "source": [
    "fig,ax = plt.subplots(figsize=(15,5))\n",
    "sns.boxplot(data=df,x='hour',y=\"AEP_MW\")\n",
    "ax.set_title(\"MW by Hour\")\n",
    "plt.show()"
   ]
  },
  {
   "cell_type": "code",
   "execution_count": 101,
   "id": "5729795b",
   "metadata": {},
   "outputs": [
    {
     "data": {
      "image/png": "[encoded data removed]",
      "text/plain": [
       "<Figure size 1080x360 with 1 Axes>"
      ]
     },
     "metadata": {
      "needs_background": "light"
     },
     "output_type": "display_data"
    }
   ],
   "source": [
    "fig,ax = plt.subplots(figsize=(15,5))\n",
    "sns.boxplot(data=df,x='month',y=\"AEP_MW\")\n",
    "ax.set_title(\"MW by month\")\n",
    "plt.show()"
   ]
  },
  {
   "cell_type": "code",
   "execution_count": 56,
   "id": "ca0e8e89",
   "metadata": {},
   "outputs": [],
   "source": [
    "train = features_generation(x_train)\n",
    "test = features_generation(x_test)"
   ]
  },
  {
   "cell_type": "code",
   "execution_count": 62,
   "id": "5d653b68",
   "metadata": {},
   "outputs": [],
   "source": [
    "x_train = train.drop(['AEP_MW'],axis=1)\n",
    "y_train = train['AEP_MW']\n",
    "\n",
    "x_test = test.drop(['AEP_MW'],axis=1)\n",
    "y_test = test['AEP_MW']"
   ]
  },
  {
   "cell_type": "code",
   "execution_count": 60,
   "id": "998c4e45",
   "metadata": {},
   "outputs": [
    {
     "data": {
      "text/html": [
       "<div>\n",
       "<style scoped>\n",
       "    .dataframe tbody tr th:only-of-type {\n",
       "        vertical-align: middle;\n",
       "    }\n",
       "\n",
       "    .dataframe tbody tr th {\n",
       "        vertical-align: top;\n",
       "    }\n",
       "\n",
       "    .dataframe thead th {\n",
       "        text-align: right;\n",
       "    }\n",
       "</style>\n",
       "<table border=\"1\" class=\"dataframe\">\n",
       "  <thead>\n",
       "    <tr style=\"text-align: right;\">\n",
       "      <th></th>\n",
       "      <th>hour</th>\n",
       "      <th>dayofweek</th>\n",
       "      <th>month</th>\n",
       "      <th>year</th>\n",
       "      <th>dayofyear</th>\n",
       "    </tr>\n",
       "    <tr>\n",
       "      <th>Datetime</th>\n",
       "      <th></th>\n",
       "      <th></th>\n",
       "      <th></th>\n",
       "      <th></th>\n",
       "      <th></th>\n",
       "    </tr>\n",
       "  </thead>\n",
       "  <tbody>\n",
       "    <tr>\n",
       "      <th>2004-12-31 03:00:00</th>\n",
       "      <td>3</td>\n",
       "      <td>4</td>\n",
       "      <td>12</td>\n",
       "      <td>2004</td>\n",
       "      <td>366</td>\n",
       "    </tr>\n",
       "    <tr>\n",
       "      <th>2004-12-31 04:00:00</th>\n",
       "      <td>4</td>\n",
       "      <td>4</td>\n",
       "      <td>12</td>\n",
       "      <td>2004</td>\n",
       "      <td>366</td>\n",
       "    </tr>\n",
       "    <tr>\n",
       "      <th>2004-12-31 05:00:00</th>\n",
       "      <td>5</td>\n",
       "      <td>4</td>\n",
       "      <td>12</td>\n",
       "      <td>2004</td>\n",
       "      <td>366</td>\n",
       "    </tr>\n",
       "    <tr>\n",
       "      <th>2004-12-31 06:00:00</th>\n",
       "      <td>6</td>\n",
       "      <td>4</td>\n",
       "      <td>12</td>\n",
       "      <td>2004</td>\n",
       "      <td>366</td>\n",
       "    </tr>\n",
       "    <tr>\n",
       "      <th>2004-12-31 07:00:00</th>\n",
       "      <td>7</td>\n",
       "      <td>4</td>\n",
       "      <td>12</td>\n",
       "      <td>2004</td>\n",
       "      <td>366</td>\n",
       "    </tr>\n",
       "    <tr>\n",
       "      <th>...</th>\n",
       "      <td>...</td>\n",
       "      <td>...</td>\n",
       "      <td>...</td>\n",
       "      <td>...</td>\n",
       "      <td>...</td>\n",
       "    </tr>\n",
       "    <tr>\n",
       "      <th>2015-01-01 20:00:00</th>\n",
       "      <td>20</td>\n",
       "      <td>3</td>\n",
       "      <td>1</td>\n",
       "      <td>2015</td>\n",
       "      <td>1</td>\n",
       "    </tr>\n",
       "    <tr>\n",
       "      <th>2015-01-01 21:00:00</th>\n",
       "      <td>21</td>\n",
       "      <td>3</td>\n",
       "      <td>1</td>\n",
       "      <td>2015</td>\n",
       "      <td>1</td>\n",
       "    </tr>\n",
       "    <tr>\n",
       "      <th>2015-01-01 22:00:00</th>\n",
       "      <td>22</td>\n",
       "      <td>3</td>\n",
       "      <td>1</td>\n",
       "      <td>2015</td>\n",
       "      <td>1</td>\n",
       "    </tr>\n",
       "    <tr>\n",
       "      <th>2015-01-01 23:00:00</th>\n",
       "      <td>23</td>\n",
       "      <td>3</td>\n",
       "      <td>1</td>\n",
       "      <td>2015</td>\n",
       "      <td>1</td>\n",
       "    </tr>\n",
       "    <tr>\n",
       "      <th>2015-01-02 00:00:00</th>\n",
       "      <td>0</td>\n",
       "      <td>4</td>\n",
       "      <td>1</td>\n",
       "      <td>2015</td>\n",
       "      <td>2</td>\n",
       "    </tr>\n",
       "  </tbody>\n",
       "</table>\n",
       "<p>98591 rows × 5 columns</p>\n",
       "</div>"
      ],
      "text/plain": [
       "                     hour  dayofweek  month  year  dayofyear\n",
       "Datetime                                                    \n",
       "2004-12-31 03:00:00     3          4     12  2004        366\n",
       "2004-12-31 04:00:00     4          4     12  2004        366\n",
       "2004-12-31 05:00:00     5          4     12  2004        366\n",
       "2004-12-31 06:00:00     6          4     12  2004        366\n",
       "2004-12-31 07:00:00     7          4     12  2004        366\n",
       "...                   ...        ...    ...   ...        ...\n",
       "2015-01-01 20:00:00    20          3      1  2015          1\n",
       "2015-01-01 21:00:00    21          3      1  2015          1\n",
       "2015-01-01 22:00:00    22          3      1  2015          1\n",
       "2015-01-01 23:00:00    23          3      1  2015          1\n",
       "2015-01-02 00:00:00     0          4      1  2015          2\n",
       "\n",
       "[98591 rows x 5 columns]"
      ]
     },
     "execution_count": 60,
     "metadata": {},
     "output_type": "execute_result"
    }
   ],
   "source": [
    "x_train"
   ]
  },
  {
   "cell_type": "code",
   "execution_count": 61,
   "id": "240c4207",
   "metadata": {},
   "outputs": [
    {
     "data": {
      "text/plain": [
       "Datetime\n",
       "2004-12-31 03:00:00    12577.0\n",
       "2004-12-31 04:00:00    12517.0\n",
       "2004-12-31 05:00:00    12670.0\n",
       "2004-12-31 06:00:00    13038.0\n",
       "2004-12-31 07:00:00    13692.0\n",
       "                        ...   \n",
       "2015-01-01 20:00:00    16586.0\n",
       "2015-01-01 21:00:00    16312.0\n",
       "2015-01-01 22:00:00    15859.0\n",
       "2015-01-01 23:00:00    15195.0\n",
       "2015-01-02 00:00:00    14722.0\n",
       "Name: AEP_MW, Length: 98591, dtype: float64"
      ]
     },
     "execution_count": 61,
     "metadata": {},
     "output_type": "execute_result"
    }
   ],
   "source": [
    "y_train"
   ]
  },
  {
   "cell_type": "code",
   "execution_count": 85,
   "id": "af6f8928",
   "metadata": {},
   "outputs": [
    {
     "name": "stdout",
     "output_type": "stream",
     "text": [
      "[0]\tvalidation_0-rmse:11172.40933\tvalidation_1-rmse:10318.34707\n",
      "[50]\tvalidation_0-rmse:887.29283\tvalidation_1-rmse:1887.61776\n",
      "[58]\tvalidation_0-rmse:846.04655\tvalidation_1-rmse:1925.19317\n"
     ]
    },
    {
     "data": {
      "text/plain": [
       "XGBRegressor(base_score=0.5, booster='gbtree', callbacks=None,\n",
       "             colsample_bylevel=1, colsample_bynode=1, colsample_bytree=1,\n",
       "             early_stopping_rounds=50, enable_categorical=False,\n",
       "             eval_metric=None, feature_types=None, gamma=0, gpu_id=-1,\n",
       "             grow_policy='depthwise', importance_type=None,\n",
       "             interaction_constraints='', learning_rate=0.300000012, max_bin=256,\n",
       "             max_cat_threshold=64, max_cat_to_onehot=4, max_delta_step=0,\n",
       "             max_depth=6, max_leaves=0, min_child_weight=1, missing=nan,\n",
       "             monotone_constraints='()', n_estimators=700, n_jobs=0,\n",
       "             num_parallel_tree=1, predictor='auto', random_state=0, ...)"
      ]
     },
     "execution_count": 85,
     "metadata": {},
     "output_type": "execute_result"
    }
   ],
   "source": [
    "xgb_model = xgb.XGBRegressor(n_estimators = 700,early_stopping_rounds=50)\n",
    "xgb_model.fit(x_train,y_train,eval_set = [(x_train,y_train),(x_test,y_test)],verbose=50) "
   ]
  },
  {
   "cell_type": "code",
   "execution_count": 86,
   "id": "cdbbb329",
   "metadata": {},
   "outputs": [
    {
     "data": {
      "text/plain": [
       "array([0.4140699 , 0.15984459, 0.15546648, 0.0808454 , 0.18977362],\n",
       "      dtype=float32)"
      ]
     },
     "execution_count": 86,
     "metadata": {},
     "output_type": "execute_result"
    }
   ],
   "source": [
    "xgb_model.feature_importances_"
   ]
  },
  {
   "cell_type": "code",
   "execution_count": 90,
   "id": "312454d4",
   "metadata": {},
   "outputs": [
    {
     "data": {
      "text/html": [
       "<div>\n",
       "<style scoped>\n",
       "    .dataframe tbody tr th:only-of-type {\n",
       "        vertical-align: middle;\n",
       "    }\n",
       "\n",
       "    .dataframe tbody tr th {\n",
       "        vertical-align: top;\n",
       "    }\n",
       "\n",
       "    .dataframe thead th {\n",
       "        text-align: right;\n",
       "    }\n",
       "</style>\n",
       "<table border=\"1\" class=\"dataframe\">\n",
       "  <thead>\n",
       "    <tr style=\"text-align: right;\">\n",
       "      <th></th>\n",
       "      <th>AEP_MW</th>\n",
       "      <th>hour</th>\n",
       "      <th>dayofweek</th>\n",
       "      <th>month</th>\n",
       "      <th>year</th>\n",
       "      <th>dayofyear</th>\n",
       "    </tr>\n",
       "    <tr>\n",
       "      <th>Datetime</th>\n",
       "      <th></th>\n",
       "      <th></th>\n",
       "      <th></th>\n",
       "      <th></th>\n",
       "      <th></th>\n",
       "      <th></th>\n",
       "    </tr>\n",
       "  </thead>\n",
       "  <tbody>\n",
       "    <tr>\n",
       "      <th>2004-12-31 01:00:00</th>\n",
       "      <td>13478.0</td>\n",
       "      <td>1</td>\n",
       "      <td>4</td>\n",
       "      <td>12</td>\n",
       "      <td>2004</td>\n",
       "      <td>366</td>\n",
       "    </tr>\n",
       "    <tr>\n",
       "      <th>2004-12-31 02:00:00</th>\n",
       "      <td>12865.0</td>\n",
       "      <td>2</td>\n",
       "      <td>4</td>\n",
       "      <td>12</td>\n",
       "      <td>2004</td>\n",
       "      <td>366</td>\n",
       "    </tr>\n",
       "    <tr>\n",
       "      <th>2004-12-31 03:00:00</th>\n",
       "      <td>12577.0</td>\n",
       "      <td>3</td>\n",
       "      <td>4</td>\n",
       "      <td>12</td>\n",
       "      <td>2004</td>\n",
       "      <td>366</td>\n",
       "    </tr>\n",
       "    <tr>\n",
       "      <th>2004-12-31 04:00:00</th>\n",
       "      <td>12517.0</td>\n",
       "      <td>4</td>\n",
       "      <td>4</td>\n",
       "      <td>12</td>\n",
       "      <td>2004</td>\n",
       "      <td>366</td>\n",
       "    </tr>\n",
       "    <tr>\n",
       "      <th>2004-12-31 05:00:00</th>\n",
       "      <td>12670.0</td>\n",
       "      <td>5</td>\n",
       "      <td>4</td>\n",
       "      <td>12</td>\n",
       "      <td>2004</td>\n",
       "      <td>366</td>\n",
       "    </tr>\n",
       "  </tbody>\n",
       "</table>\n",
       "</div>"
      ],
      "text/plain": [
       "                      AEP_MW  hour  dayofweek  month  year  dayofyear\n",
       "Datetime                                                             \n",
       "2004-12-31 01:00:00  13478.0     1          4     12  2004        366\n",
       "2004-12-31 02:00:00  12865.0     2          4     12  2004        366\n",
       "2004-12-31 03:00:00  12577.0     3          4     12  2004        366\n",
       "2004-12-31 04:00:00  12517.0     4          4     12  2004        366\n",
       "2004-12-31 05:00:00  12670.0     5          4     12  2004        366"
      ]
     },
     "execution_count": 90,
     "metadata": {},
     "output_type": "execute_result"
    }
   ],
   "source": [
    "df.head()"
   ]
  },
  {
   "cell_type": "code",
   "execution_count": 107,
   "id": "4eb65fc7",
   "metadata": {},
   "outputs": [],
   "source": [
    "def features_generation_new(df):\n",
    "    df = df.copy()\n",
    "    df['hour'] = df.index.hour \n",
    "    df['dayofweek'] = df.index.dayofweek\n",
    "    df['dayofyear'] = df.index.dayofyear\n",
    "    return df"
   ]
  },
  {
   "cell_type": "code",
   "execution_count": 108,
   "id": "c8f89168",
   "metadata": {},
   "outputs": [],
   "source": [
    "train_new = features_generation_new(df)\n",
    "test_new = features_generation_new(x_test)"
   ]
  },
  {
   "cell_type": "code",
   "execution_count": 109,
   "id": "950c01ca",
   "metadata": {},
   "outputs": [],
   "source": [
    "x_train = train_new.drop(['AEP_MW'],axis=1)\n",
    "y_train = train_new['AEP_MW']\n",
    "\n",
    "x_test = test_new.drop(['AEP_MW'],axis=1)\n",
    "y_test = test_new['AEP_MW']"
   ]
  },
  {
   "cell_type": "code",
   "execution_count": 110,
   "id": "7b86bce7",
   "metadata": {},
   "outputs": [
    {
     "data": {
      "text/html": [
       "<div>\n",
       "<style scoped>\n",
       "    .dataframe tbody tr th:only-of-type {\n",
       "        vertical-align: middle;\n",
       "    }\n",
       "\n",
       "    .dataframe tbody tr th {\n",
       "        vertical-align: top;\n",
       "    }\n",
       "\n",
       "    .dataframe thead th {\n",
       "        text-align: right;\n",
       "    }\n",
       "</style>\n",
       "<table border=\"1\" class=\"dataframe\">\n",
       "  <thead>\n",
       "    <tr style=\"text-align: right;\">\n",
       "      <th></th>\n",
       "      <th>hour</th>\n",
       "      <th>dayofweek</th>\n",
       "      <th>dayofyear</th>\n",
       "    </tr>\n",
       "    <tr>\n",
       "      <th>Datetime</th>\n",
       "      <th></th>\n",
       "      <th></th>\n",
       "      <th></th>\n",
       "    </tr>\n",
       "  </thead>\n",
       "  <tbody>\n",
       "    <tr>\n",
       "      <th>2004-12-31 01:00:00</th>\n",
       "      <td>1</td>\n",
       "      <td>4</td>\n",
       "      <td>366</td>\n",
       "    </tr>\n",
       "    <tr>\n",
       "      <th>2004-12-31 02:00:00</th>\n",
       "      <td>2</td>\n",
       "      <td>4</td>\n",
       "      <td>366</td>\n",
       "    </tr>\n",
       "    <tr>\n",
       "      <th>2004-12-31 03:00:00</th>\n",
       "      <td>3</td>\n",
       "      <td>4</td>\n",
       "      <td>366</td>\n",
       "    </tr>\n",
       "    <tr>\n",
       "      <th>2004-12-31 04:00:00</th>\n",
       "      <td>4</td>\n",
       "      <td>4</td>\n",
       "      <td>366</td>\n",
       "    </tr>\n",
       "    <tr>\n",
       "      <th>2004-12-31 05:00:00</th>\n",
       "      <td>5</td>\n",
       "      <td>4</td>\n",
       "      <td>366</td>\n",
       "    </tr>\n",
       "    <tr>\n",
       "      <th>...</th>\n",
       "      <td>...</td>\n",
       "      <td>...</td>\n",
       "      <td>...</td>\n",
       "    </tr>\n",
       "    <tr>\n",
       "      <th>2018-01-01 20:00:00</th>\n",
       "      <td>20</td>\n",
       "      <td>0</td>\n",
       "      <td>1</td>\n",
       "    </tr>\n",
       "    <tr>\n",
       "      <th>2018-01-01 21:00:00</th>\n",
       "      <td>21</td>\n",
       "      <td>0</td>\n",
       "      <td>1</td>\n",
       "    </tr>\n",
       "    <tr>\n",
       "      <th>2018-01-01 22:00:00</th>\n",
       "      <td>22</td>\n",
       "      <td>0</td>\n",
       "      <td>1</td>\n",
       "    </tr>\n",
       "    <tr>\n",
       "      <th>2018-01-01 23:00:00</th>\n",
       "      <td>23</td>\n",
       "      <td>0</td>\n",
       "      <td>1</td>\n",
       "    </tr>\n",
       "    <tr>\n",
       "      <th>2018-01-02 00:00:00</th>\n",
       "      <td>0</td>\n",
       "      <td>1</td>\n",
       "      <td>2</td>\n",
       "    </tr>\n",
       "  </tbody>\n",
       "</table>\n",
       "<p>121273 rows × 3 columns</p>\n",
       "</div>"
      ],
      "text/plain": [
       "                     hour  dayofweek  dayofyear\n",
       "Datetime                                       \n",
       "2004-12-31 01:00:00     1          4        366\n",
       "2004-12-31 02:00:00     2          4        366\n",
       "2004-12-31 03:00:00     3          4        366\n",
       "2004-12-31 04:00:00     4          4        366\n",
       "2004-12-31 05:00:00     5          4        366\n",
       "...                   ...        ...        ...\n",
       "2018-01-01 20:00:00    20          0          1\n",
       "2018-01-01 21:00:00    21          0          1\n",
       "2018-01-01 22:00:00    22          0          1\n",
       "2018-01-01 23:00:00    23          0          1\n",
       "2018-01-02 00:00:00     0          1          2\n",
       "\n",
       "[121273 rows x 3 columns]"
      ]
     },
     "execution_count": 110,
     "metadata": {},
     "output_type": "execute_result"
    }
   ],
   "source": [
    "x_train"
   ]
  },
  {
   "cell_type": "code",
   "execution_count": 111,
   "id": "cb106978",
   "metadata": {},
   "outputs": [
    {
     "data": {
      "text/plain": [
       "Datetime\n",
       "2004-12-31 01:00:00    13478.0\n",
       "2004-12-31 02:00:00    12865.0\n",
       "2004-12-31 03:00:00    12577.0\n",
       "2004-12-31 04:00:00    12517.0\n",
       "2004-12-31 05:00:00    12670.0\n",
       "                        ...   \n",
       "2018-01-01 20:00:00    21089.0\n",
       "2018-01-01 21:00:00    20999.0\n",
       "2018-01-01 22:00:00    20820.0\n",
       "2018-01-01 23:00:00    20415.0\n",
       "2018-01-02 00:00:00    19993.0\n",
       "Name: AEP_MW, Length: 121273, dtype: float64"
      ]
     },
     "execution_count": 111,
     "metadata": {},
     "output_type": "execute_result"
    }
   ],
   "source": [
    "y_train"
   ]
  },
  {
   "cell_type": "code",
   "execution_count": 117,
   "id": "5eeef453",
   "metadata": {},
   "outputs": [
    {
     "name": "stdout",
     "output_type": "stream",
     "text": [
      "[0]\tvalidation_0-rmse:11063.71997\tvalidation_1-rmse:10327.88746\n",
      "[50]\tvalidation_0-rmse:1321.50550\tvalidation_1-rmse:1487.11867\n",
      "[58]\tvalidation_0-rmse:1306.35394\tvalidation_1-rmse:1476.94506\n"
     ]
    },
    {
     "data": {
      "text/plain": [
       "XGBRegressor(base_score=0.5, booster='gbtree', callbacks=None,\n",
       "             colsample_bylevel=1, colsample_bynode=1, colsample_bytree=1,\n",
       "             early_stopping_rounds=50, enable_categorical=False,\n",
       "             eval_metric=None, feature_types=None, gamma=0, gpu_id=-1,\n",
       "             grow_policy='depthwise', importance_type=None,\n",
       "             interaction_constraints='', learning_rate=0.300000012, max_bin=256,\n",
       "             max_cat_threshold=64, max_cat_to_onehot=4, max_delta_step=0,\n",
       "             max_depth=6, max_leaves=0, min_child_weight=1, missing=nan,\n",
       "             monotone_constraints='()', n_estimators=100, n_jobs=0,\n",
       "             num_parallel_tree=1, predictor='auto', random_state=0, ...)"
      ]
     },
     "execution_count": 117,
     "metadata": {},
     "output_type": "execute_result"
    }
   ],
   "source": [
    "xgb_model = xgb.XGBRegressor(n_estimators = 100,early_stopping_rounds=50)\n",
    "xgb_model.fit(x_train,y_train,eval_set = [(x_train,y_train),(x_test,y_test)],verbose=50) "
   ]
  },
  {
   "cell_type": "code",
   "execution_count": 120,
   "id": "30d44f0b",
   "metadata": {},
   "outputs": [],
   "source": [
    "x_test_predict = xgb_model.predict(x_test)\n",
    "test['prediction'] = x_test_predict"
   ]
  },
  {
   "cell_type": "code",
   "execution_count": 121,
   "id": "95967d4e",
   "metadata": {},
   "outputs": [
    {
     "data": {
      "text/html": [
       "<div>\n",
       "<style scoped>\n",
       "    .dataframe tbody tr th:only-of-type {\n",
       "        vertical-align: middle;\n",
       "    }\n",
       "\n",
       "    .dataframe tbody tr th {\n",
       "        vertical-align: top;\n",
       "    }\n",
       "\n",
       "    .dataframe thead th {\n",
       "        text-align: right;\n",
       "    }\n",
       "</style>\n",
       "<table border=\"1\" class=\"dataframe\">\n",
       "  <thead>\n",
       "    <tr style=\"text-align: right;\">\n",
       "      <th></th>\n",
       "      <th>AEP_MW</th>\n",
       "      <th>hour</th>\n",
       "      <th>dayofweek</th>\n",
       "      <th>month</th>\n",
       "      <th>year</th>\n",
       "      <th>dayofyear</th>\n",
       "      <th>prediction</th>\n",
       "    </tr>\n",
       "    <tr>\n",
       "      <th>Datetime</th>\n",
       "      <th></th>\n",
       "      <th></th>\n",
       "      <th></th>\n",
       "      <th></th>\n",
       "      <th></th>\n",
       "      <th></th>\n",
       "      <th></th>\n",
       "    </tr>\n",
       "  </thead>\n",
       "  <tbody>\n",
       "    <tr>\n",
       "      <th>2016-01-01 00:00:00</th>\n",
       "      <td>13487.0</td>\n",
       "      <td>0</td>\n",
       "      <td>4</td>\n",
       "      <td>1</td>\n",
       "      <td>2016</td>\n",
       "      <td>1</td>\n",
       "      <td>14952.957031</td>\n",
       "    </tr>\n",
       "    <tr>\n",
       "      <th>2016-12-31 01:00:00</th>\n",
       "      <td>14877.0</td>\n",
       "      <td>1</td>\n",
       "      <td>5</td>\n",
       "      <td>12</td>\n",
       "      <td>2016</td>\n",
       "      <td>366</td>\n",
       "      <td>13845.832031</td>\n",
       "    </tr>\n",
       "    <tr>\n",
       "      <th>2016-12-31 02:00:00</th>\n",
       "      <td>14588.0</td>\n",
       "      <td>2</td>\n",
       "      <td>5</td>\n",
       "      <td>12</td>\n",
       "      <td>2016</td>\n",
       "      <td>366</td>\n",
       "      <td>13738.008789</td>\n",
       "    </tr>\n",
       "    <tr>\n",
       "      <th>2016-12-31 03:00:00</th>\n",
       "      <td>14514.0</td>\n",
       "      <td>3</td>\n",
       "      <td>5</td>\n",
       "      <td>12</td>\n",
       "      <td>2016</td>\n",
       "      <td>366</td>\n",
       "      <td>13654.708008</td>\n",
       "    </tr>\n",
       "    <tr>\n",
       "      <th>2016-12-31 04:00:00</th>\n",
       "      <td>14591.0</td>\n",
       "      <td>4</td>\n",
       "      <td>5</td>\n",
       "      <td>12</td>\n",
       "      <td>2016</td>\n",
       "      <td>366</td>\n",
       "      <td>13654.708008</td>\n",
       "    </tr>\n",
       "    <tr>\n",
       "      <th>...</th>\n",
       "      <td>...</td>\n",
       "      <td>...</td>\n",
       "      <td>...</td>\n",
       "      <td>...</td>\n",
       "      <td>...</td>\n",
       "      <td>...</td>\n",
       "      <td>...</td>\n",
       "    </tr>\n",
       "    <tr>\n",
       "      <th>2018-01-01 20:00:00</th>\n",
       "      <td>21089.0</td>\n",
       "      <td>20</td>\n",
       "      <td>0</td>\n",
       "      <td>1</td>\n",
       "      <td>2018</td>\n",
       "      <td>1</td>\n",
       "      <td>17625.234375</td>\n",
       "    </tr>\n",
       "    <tr>\n",
       "      <th>2018-01-01 21:00:00</th>\n",
       "      <td>20999.0</td>\n",
       "      <td>21</td>\n",
       "      <td>0</td>\n",
       "      <td>1</td>\n",
       "      <td>2018</td>\n",
       "      <td>1</td>\n",
       "      <td>17625.234375</td>\n",
       "    </tr>\n",
       "    <tr>\n",
       "      <th>2018-01-01 22:00:00</th>\n",
       "      <td>20820.0</td>\n",
       "      <td>22</td>\n",
       "      <td>0</td>\n",
       "      <td>1</td>\n",
       "      <td>2018</td>\n",
       "      <td>1</td>\n",
       "      <td>17301.552734</td>\n",
       "    </tr>\n",
       "    <tr>\n",
       "      <th>2018-01-01 23:00:00</th>\n",
       "      <td>20415.0</td>\n",
       "      <td>23</td>\n",
       "      <td>0</td>\n",
       "      <td>1</td>\n",
       "      <td>2018</td>\n",
       "      <td>1</td>\n",
       "      <td>16316.140625</td>\n",
       "    </tr>\n",
       "    <tr>\n",
       "      <th>2018-01-02 00:00:00</th>\n",
       "      <td>19993.0</td>\n",
       "      <td>0</td>\n",
       "      <td>1</td>\n",
       "      <td>1</td>\n",
       "      <td>2018</td>\n",
       "      <td>2</td>\n",
       "      <td>15251.528320</td>\n",
       "    </tr>\n",
       "  </tbody>\n",
       "</table>\n",
       "<p>22680 rows × 7 columns</p>\n",
       "</div>"
      ],
      "text/plain": [
       "                      AEP_MW  hour  dayofweek  month  year  dayofyear  \\\n",
       "Datetime                                                                \n",
       "2016-01-01 00:00:00  13487.0     0          4      1  2016          1   \n",
       "2016-12-31 01:00:00  14877.0     1          5     12  2016        366   \n",
       "2016-12-31 02:00:00  14588.0     2          5     12  2016        366   \n",
       "2016-12-31 03:00:00  14514.0     3          5     12  2016        366   \n",
       "2016-12-31 04:00:00  14591.0     4          5     12  2016        366   \n",
       "...                      ...   ...        ...    ...   ...        ...   \n",
       "2018-01-01 20:00:00  21089.0    20          0      1  2018          1   \n",
       "2018-01-01 21:00:00  20999.0    21          0      1  2018          1   \n",
       "2018-01-01 22:00:00  20820.0    22          0      1  2018          1   \n",
       "2018-01-01 23:00:00  20415.0    23          0      1  2018          1   \n",
       "2018-01-02 00:00:00  19993.0     0          1      1  2018          2   \n",
       "\n",
       "                       prediction  \n",
       "Datetime                           \n",
       "2016-01-01 00:00:00  14952.957031  \n",
       "2016-12-31 01:00:00  13845.832031  \n",
       "2016-12-31 02:00:00  13738.008789  \n",
       "2016-12-31 03:00:00  13654.708008  \n",
       "2016-12-31 04:00:00  13654.708008  \n",
       "...                           ...  \n",
       "2018-01-01 20:00:00  17625.234375  \n",
       "2018-01-01 21:00:00  17625.234375  \n",
       "2018-01-01 22:00:00  17301.552734  \n",
       "2018-01-01 23:00:00  16316.140625  \n",
       "2018-01-02 00:00:00  15251.528320  \n",
       "\n",
       "[22680 rows x 7 columns]"
      ]
     },
     "execution_count": 121,
     "metadata": {},
     "output_type": "execute_result"
    }
   ],
   "source": [
    "test"
   ]
  },
  {
   "cell_type": "code",
   "execution_count": 125,
   "id": "dddff5ee",
   "metadata": {},
   "outputs": [
    {
     "data": {
      "image/png": "[encoded data removed]",
      "text/plain": [
       "<Figure size 1080x360 with 1 Axes>"
      ]
     },
     "metadata": {
      "needs_background": "light"
     },
     "output_type": "display_data"
    }
   ],
   "source": [
    "fig,ax = plt.subplots(figsize=(15,5))\n",
    "test['AEP_MW'].plot(ax=ax,color='g')\n",
    "test['prediction'].plot(ax=ax)\n",
    "plt.legend(['Truth','Predictions'])\n",
    "plt.show()"
   ]
  }
 ],
 "metadata": {
  "kernelspec": {
   "display_name": "Python 3 (ipykernel)",
   "language": "python",
   "name": "python3"
  },
  "language_info": {
   "codemirror_mode": {
    "name": "ipython",
    "version": 3
   },
   "file_extension": ".py",
   "mimetype": "text/x-python",
   "name": "python",
   "nbconvert_exporter": "python",
   "pygments_lexer": "ipython3",
   "version": "3.9.12"
  }
 },
 "nbformat": 4,
 "nbformat_minor": 5
}
